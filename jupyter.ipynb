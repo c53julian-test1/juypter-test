{
  "nbformat": 4,  
  "nbformat_minor": 0,  
  "metadata": {},  
  "cells": [  
    {  
      "cell_type": "code",  
      "source": [  
        "Hello, World!"  
      ],  
      "outputs": [  
        {  
          "data": {  
            "text/html": "<svg xmlns=\"http://www.w3.org/2000/svg\" xmlns:xlink=\"http://www.w3.org/1999/xlink\"><use xlink:href=\"/assets/icons-319de3b47bd085e8b73de84bed6ed3eb7fb318aadf14d14ff781ba9a32129b45.svg/../../juypter-test#main\" /></svg>"  
          }  
        }  
      ]  
    }  
  ]  
}
